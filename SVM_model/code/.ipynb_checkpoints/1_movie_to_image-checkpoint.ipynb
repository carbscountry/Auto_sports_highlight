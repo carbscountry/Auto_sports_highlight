{
 "cells": [
  {
   "cell_type": "code",
   "execution_count": 8,
   "id": "377c0ce7-7360-46ef-99c9-2ed5d43ed991",
   "metadata": {
    "tags": []
   },
   "outputs": [],
   "source": [
    "#参考　https://www.higashisalary.com/entry/python-movie-to-pic\n",
    "\n",
    "import sys,os,re\n",
    "import glob\n",
    "import cv2\n"
   ]
  },
  {
   "cell_type": "code",
   "execution_count": 5,
   "id": "c1adf58a-cc63-472e-87ab-55deeb497fc3",
   "metadata": {
    "tags": []
   },
   "outputs": [],
   "source": [
    "path = '/workspace'\n",
    "input_path = os.path.join(path,'input/')"
   ]
  },
  {
   "cell_type": "code",
   "execution_count": 12,
   "id": "be9063c8-c527-4f40-8cda-ed78d236b92c",
   "metadata": {
    "tags": []
   },
   "outputs": [
    {
     "name": "stdout",
     "output_type": "stream",
     "text": [
      "/workspace/input/fifa/row/eFootball ウイニングイレブン 2020_20230408143722 [clRXCXFWU5g].mp4\n",
      "/workspace/input/fifa/row/eFootball ウイニングイレブン 2020_20230409101125 [j0KRpkcErLw].mp4\n",
      "/workspace/input/fifa/row/eFootball ウイニングイレブン 2020_20230409102219 [-oxuSIkvsKk].mp4\n"
     ]
    }
   ],
   "source": [
    "#動画ファイルの読み込み\n",
    "path = os.path.join(input_path,'fifa/row/*.*')\n",
    "filelist = glob.glob(path)\n",
    "\n",
    "#確認\n",
    "for f in filelist:\n",
    "    print(f)"
   ]
  },
  {
   "cell_type": "code",
   "execution_count": 25,
   "id": "d6f0f364-5c08-4c38-b86d-bf0f27753149",
   "metadata": {
    "tags": []
   },
   "outputs": [
    {
     "ename": "KeyboardInterrupt",
     "evalue": "",
     "output_type": "error",
     "traceback": [
      "\u001b[0;31m---------------------------------------------------------------------------\u001b[0m",
      "\u001b[0;31mKeyboardInterrupt\u001b[0m                         Traceback (most recent call last)",
      "Cell \u001b[0;32mIn[25], line 10\u001b[0m\n\u001b[1;32m      7\u001b[0m nframe \u001b[38;5;241m=\u001b[39m \u001b[38;5;28mint\u001b[39m(movie\u001b[38;5;241m.\u001b[39mget(cv2\u001b[38;5;241m.\u001b[39mCAP_PROP_FRAME_COUNT))\n\u001b[1;32m      9\u001b[0m \u001b[38;5;28;01mfor\u001b[39;00m i \u001b[38;5;129;01min\u001b[39;00m \u001b[38;5;28mrange\u001b[39m(nframe):\n\u001b[0;32m---> 10\u001b[0m     ret,frame \u001b[38;5;241m=\u001b[39m \u001b[43mmovie\u001b[49m\u001b[38;5;241;43m.\u001b[39;49m\u001b[43mread\u001b[49m\u001b[43m(\u001b[49m\u001b[43m)\u001b[49m\n\u001b[1;32m     11\u001b[0m     cv2\u001b[38;5;241m.\u001b[39mimwrite(os\u001b[38;5;241m.\u001b[39mpath\u001b[38;5;241m.\u001b[39mjoin(input_path,\u001b[38;5;124mf\u001b[39m\u001b[38;5;124m'\u001b[39m\u001b[38;5;124mfifa/image/\u001b[39m\u001b[38;5;132;01m{\u001b[39;00mindex\u001b[38;5;132;01m}\u001b[39;00m\u001b[38;5;124m/\u001b[39m\u001b[38;5;132;01m{\u001b[39;00m\u001b[38;5;28mstr\u001b[39m(i)\u001b[38;5;132;01m}\u001b[39;00m\u001b[38;5;124m.jpg\u001b[39m\u001b[38;5;124m'\u001b[39m),frame)\n",
      "\u001b[0;31mKeyboardInterrupt\u001b[0m: "
     ]
    }
   ],
   "source": [
    "#画像化\n",
    "for index,movies in enumerate(tqdm(filelist)):\n",
    "    #動画ファイルの読み込み\n",
    "    movie = cv2.VideoCapture(movies)\n",
    "    \n",
    "    #フレーム数の取得\n",
    "    nframe = int(movie.get(cv2.CAP_PROP_FRAME_COUNT))\n",
    "    \n",
    "    for i in range(nframe):\n",
    "        ret,frame = movie.read()\n",
    "        cv2.imwrite(os.path.join(input_path,f'fifa/image/{index}/{str(i)}.jpg'),frame)"
   ]
  },
  {
   "cell_type": "code",
   "execution_count": 20,
   "id": "5e319eb4-be73-45a3-b4f3-51e12cbe5ba6",
   "metadata": {
    "tags": []
   },
   "outputs": [
    {
     "data": {
      "text/plain": [
       "'2020_20230409102219 [-oxuSIkvsKk].mp4'"
      ]
     },
     "execution_count": 20,
     "metadata": {},
     "output_type": "execute_result"
    }
   ],
   "source": []
  },
  {
   "cell_type": "code",
   "execution_count": null,
   "id": "18486765-7cd4-4f3f-bf82-3b7dec1de23c",
   "metadata": {},
   "outputs": [],
   "source": []
  }
 ],
 "metadata": {
  "kernelspec": {
   "display_name": "Python 3 (ipykernel)",
   "language": "python",
   "name": "python3"
  },
  "language_info": {
   "codemirror_mode": {
    "name": "ipython",
    "version": 3
   },
   "file_extension": ".py",
   "mimetype": "text/x-python",
   "name": "python",
   "nbconvert_exporter": "python",
   "pygments_lexer": "ipython3",
   "version": "3.9.16"
  }
 },
 "nbformat": 4,
 "nbformat_minor": 5
}
