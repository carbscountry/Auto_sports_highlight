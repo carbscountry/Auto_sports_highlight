{
 "cells": [
  {
   "cell_type": "code",
   "execution_count": 3,
   "id": "377c0ce7-7360-46ef-99c9-2ed5d43ed991",
   "metadata": {
    "tags": []
   },
   "outputs": [],
   "source": [
    "#参考　https://www.higashisalary.com/entry/python-movie-to-pic\n",
    "\n",
    "import sys,os,re\n",
    "import glob\n",
    "import cv2\n",
    "from tqdm.notebook import tqdm"
   ]
  },
  {
   "cell_type": "code",
   "execution_count": 5,
   "id": "c1adf58a-cc63-472e-87ab-55deeb497fc3",
   "metadata": {
    "tags": []
   },
   "outputs": [],
   "source": [
    "path = '/workspace'\n",
    "input_path = os.path.join(path,'input/')"
   ]
  },
  {
   "cell_type": "code",
   "execution_count": 12,
   "id": "be9063c8-c527-4f40-8cda-ed78d236b92c",
   "metadata": {
    "tags": []
   },
   "outputs": [
    {
     "name": "stdout",
     "output_type": "stream",
     "text": [
      "/workspace/input/fifa/row/eFootball ウイニングイレブン 2020_20230408143722 [clRXCXFWU5g].mp4\n",
      "/workspace/input/fifa/row/eFootball ウイニングイレブン 2020_20230409101125 [j0KRpkcErLw].mp4\n",
      "/workspace/input/fifa/row/eFootball ウイニングイレブン 2020_20230409102219 [-oxuSIkvsKk].mp4\n"
     ]
    }
   ],
   "source": [
    "#動画ファイルの読み込み\n",
    "path = os.path.join(input_path,'fifa/row/*.*')\n",
    "filelist = glob.glob(path)\n",
    "\n",
    "#確認\n",
    "for f in filelist:\n",
    "    print(f)"
   ]
  },
  {
   "cell_type": "code",
   "execution_count": 1,
   "id": "d6f0f364-5c08-4c38-b86d-bf0f27753149",
   "metadata": {
    "tags": []
   },
   "outputs": [
    {
     "ename": "NameError",
     "evalue": "name 'tqdm' is not defined",
     "output_type": "error",
     "traceback": [
      "\u001b[0;31m---------------------------------------------------------------------------\u001b[0m",
      "\u001b[0;31mNameError\u001b[0m                                 Traceback (most recent call last)",
      "Cell \u001b[0;32mIn[1], line 2\u001b[0m\n\u001b[1;32m      1\u001b[0m \u001b[38;5;66;03m#画像化\u001b[39;00m\n\u001b[0;32m----> 2\u001b[0m \u001b[38;5;28;01mfor\u001b[39;00m index,movies \u001b[38;5;129;01min\u001b[39;00m \u001b[38;5;28menumerate\u001b[39m(\u001b[43mtqdm\u001b[49m(filelist)):\n\u001b[1;32m      3\u001b[0m     \u001b[38;5;66;03m#動画ファイルの読み込み\u001b[39;00m\n\u001b[1;32m      4\u001b[0m     movie \u001b[38;5;241m=\u001b[39m cv2\u001b[38;5;241m.\u001b[39mVideoCapture(movies)\n\u001b[1;32m      6\u001b[0m     \u001b[38;5;66;03m#フレーム数の取得\u001b[39;00m\n",
      "\u001b[0;31mNameError\u001b[0m: name 'tqdm' is not defined"
     ]
    }
   ],
   "source": [
    "#画像化\n",
    "for index,movies in enumerate(tqdm(filelist)):\n",
    "    #動画ファイルの読み込み\n",
    "    movie = cv2.VideoCapture(movies)\n",
    "    \n",
    "    #フレーム数の取得\n",
    "    nframe = int(movie.get(cv2.CAP_PROP_FRAME_COUNT))\n",
    "    \n",
    "    for i in range(nframe):\n",
    "        ret,frame = movie.read()\n",
    "        cv2.imwrite(os.path.join(input_path,f'fifa/image/{index}/{str(i)}.jpg'),frame)"
   ]
  },
  {
   "cell_type": "code",
   "execution_count": null,
   "id": "ba1cdaa5-725d-4af0-a764-ad0b7d01522f",
   "metadata": {},
   "outputs": [],
   "source": []
  }
 ],
 "metadata": {
  "kernelspec": {
   "display_name": "Python 3 (ipykernel)",
   "language": "python",
   "name": "python3"
  },
  "language_info": {
   "codemirror_mode": {
    "name": "ipython",
    "version": 3
   },
   "file_extension": ".py",
   "mimetype": "text/x-python",
   "name": "python",
   "nbconvert_exporter": "python",
   "pygments_lexer": "ipython3",
   "version": "3.9.16"
  }
 },
 "nbformat": 4,
 "nbformat_minor": 5
}
