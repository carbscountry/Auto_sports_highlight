{
 "cells": [
  {
   "cell_type": "code",
   "execution_count": 1,
   "id": "377c0ce7-7360-46ef-99c9-2ed5d43ed991",
   "metadata": {
    "tags": []
   },
   "outputs": [],
   "source": [
    "#参考　https://www.higashisalary.com/entry/python-movie-to-pic\n",
    "\n",
    "import sys,os,re\n",
    "import glob\n",
    "import cv2\n",
    "from tqdm.notebook import tqdm"
   ]
  },
  {
   "cell_type": "code",
   "execution_count": 2,
   "id": "c1adf58a-cc63-472e-87ab-55deeb497fc3",
   "metadata": {
    "tags": []
   },
   "outputs": [],
   "source": [
    "path = '/workspace'\n",
    "input_path = os.path.join(path,'input/')"
   ]
  },
  {
   "cell_type": "code",
   "execution_count": 3,
   "id": "be9063c8-c527-4f40-8cda-ed78d236b92c",
   "metadata": {
    "tags": []
   },
   "outputs": [
    {
     "name": "stdout",
     "output_type": "stream",
     "text": [
      "/workspace/input/fifa/row/eFootball ウイニングイレブン 2020_20230408143722 [clRXCXFWU5g].mp4\n",
      "/workspace/input/fifa/row/eFootball ウイニングイレブン 2020_20230409101125 [j0KRpkcErLw].mp4\n",
      "/workspace/input/fifa/row/eFootball ウイニングイレブン 2020_20230409102219 [-oxuSIkvsKk].mp4\n"
     ]
    }
   ],
   "source": [
    "#動画ファイルの読み込み\n",
    "path = os.path.join(input_path,'fifa/row/*.*')\n",
    "filelist = glob.glob(path)\n",
    "\n",
    "#確認\n",
    "for f in filelist:\n",
    "    print(f)"
   ]
  },
  {
   "cell_type": "code",
   "execution_count": null,
   "id": "d6f0f364-5c08-4c38-b86d-bf0f27753149",
   "metadata": {
    "tags": []
   },
   "outputs": [
    {
     "name": "stdout",
     "output_type": "stream",
     "text": [
      "0\n"
     ]
    },
    {
     "data": {
      "application/vnd.jupyter.widget-view+json": {
       "model_id": "52d5b35c8319487890a313e3eac265af",
       "version_major": 2,
       "version_minor": 0
      },
      "text/plain": [
       "  0%|          | 0/17229 [00:00<?, ?it/s]"
      ]
     },
     "metadata": {},
     "output_type": "display_data"
    },
    {
     "name": "stdout",
     "output_type": "stream",
     "text": [
      "1\n"
     ]
    },
    {
     "data": {
      "application/vnd.jupyter.widget-view+json": {
       "model_id": "b67a6833494d4539babe12b75b183a6a",
       "version_major": 2,
       "version_minor": 0
      },
      "text/plain": [
       "  0%|          | 0/12086 [00:00<?, ?it/s]"
      ]
     },
     "metadata": {},
     "output_type": "display_data"
    },
    {
     "name": "stdout",
     "output_type": "stream",
     "text": [
      "2\n"
     ]
    },
    {
     "data": {
      "application/vnd.jupyter.widget-view+json": {
       "model_id": "e71397af40a24a74b69fb73d7ea87034",
       "version_major": 2,
       "version_minor": 0
      },
      "text/plain": [
       "  0%|          | 0/18514 [00:00<?, ?it/s]"
      ]
     },
     "metadata": {},
     "output_type": "display_data"
    }
   ],
   "source": [
    "#画像化\n",
    "os.mkdir(f'/workspace/input/fifa/image/', exist_ok = True)\n",
    "for index,movies in enumerate(filelist):\n",
    "    #動画ファイルの読み込み\n",
    "    movie = cv2.VideoCapture(movies)\n",
    "    \n",
    "    #フレーム数の取得\n",
    "    nframe = int(movie.get(cv2.CAP_PROP_FRAME_COUNT))\n",
    "    \n",
    "    print(index)\n",
    "    for i in tqdm(range(nframe)):\n",
    "        ret,frame = movie.read()\n",
    "        cv2.imwrite(os.path.join(input_path,f'fifa/image/{index}/{str(i)}.jpg'),frame)"
   ]
  },
  {
   "cell_type": "code",
   "execution_count": 11,
   "id": "2ad5d16b-4608-4f0d-962b-e3f03aca0947",
   "metadata": {
    "tags": []
   },
   "outputs": [
    {
     "data": {
      "text/plain": [
       "'/workspace/code'"
      ]
     },
     "execution_count": 11,
     "metadata": {},
     "output_type": "execute_result"
    }
   ],
   "source": [
    "%pwd"
   ]
  },
  {
   "cell_type": "code",
   "execution_count": null,
   "id": "adc22ceb-0503-472f-bbd7-70d53dd7a52f",
   "metadata": {},
   "outputs": [],
   "source": []
  }
 ],
 "metadata": {
  "kernelspec": {
   "display_name": "Python 3 (ipykernel)",
   "language": "python",
   "name": "python3"
  },
  "language_info": {
   "codemirror_mode": {
    "name": "ipython",
    "version": 3
   },
   "file_extension": ".py",
   "mimetype": "text/x-python",
   "name": "python",
   "nbconvert_exporter": "python",
   "pygments_lexer": "ipython3",
   "version": "3.9.16"
  }
 },
 "nbformat": 4,
 "nbformat_minor": 5
}
